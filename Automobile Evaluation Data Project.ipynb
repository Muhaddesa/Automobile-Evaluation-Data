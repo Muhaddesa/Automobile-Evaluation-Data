{
 "cells": [
  {
   "cell_type": "code",
   "execution_count": 1,
   "id": "2a5fe3fe",
   "metadata": {},
   "outputs": [],
   "source": [
    "import pandas as pd\n",
    "import numpy as np \n"
   ]
  },
  {
   "cell_type": "code",
   "execution_count": 3,
   "id": "605e62c7",
   "metadata": {},
   "outputs": [
    {
     "data": {
      "text/html": [
       "<div>\n",
       "<style scoped>\n",
       "    .dataframe tbody tr th:only-of-type {\n",
       "        vertical-align: middle;\n",
       "    }\n",
       "\n",
       "    .dataframe tbody tr th {\n",
       "        vertical-align: top;\n",
       "    }\n",
       "\n",
       "    .dataframe thead th {\n",
       "        text-align: right;\n",
       "    }\n",
       "</style>\n",
       "<table border=\"1\" class=\"dataframe\">\n",
       "  <thead>\n",
       "    <tr style=\"text-align: right;\">\n",
       "      <th></th>\n",
       "      <th>buying_cost</th>\n",
       "      <th>maintenance_cost</th>\n",
       "      <th>doors</th>\n",
       "      <th>capacity</th>\n",
       "      <th>luggage</th>\n",
       "      <th>safety</th>\n",
       "      <th>acceptability</th>\n",
       "      <th>manufacturer_country</th>\n",
       "    </tr>\n",
       "  </thead>\n",
       "  <tbody>\n",
       "    <tr>\n",
       "      <th>0</th>\n",
       "      <td>vhigh</td>\n",
       "      <td>low</td>\n",
       "      <td>4</td>\n",
       "      <td>4</td>\n",
       "      <td>small</td>\n",
       "      <td>med</td>\n",
       "      <td>unacc</td>\n",
       "      <td>China</td>\n",
       "    </tr>\n",
       "    <tr>\n",
       "      <th>1</th>\n",
       "      <td>vhigh</td>\n",
       "      <td>med</td>\n",
       "      <td>3</td>\n",
       "      <td>4</td>\n",
       "      <td>small</td>\n",
       "      <td>high</td>\n",
       "      <td>acc</td>\n",
       "      <td>France</td>\n",
       "    </tr>\n",
       "    <tr>\n",
       "      <th>2</th>\n",
       "      <td>med</td>\n",
       "      <td>high</td>\n",
       "      <td>3</td>\n",
       "      <td>2</td>\n",
       "      <td>med</td>\n",
       "      <td>high</td>\n",
       "      <td>unacc</td>\n",
       "      <td>United States</td>\n",
       "    </tr>\n",
       "    <tr>\n",
       "      <th>3</th>\n",
       "      <td>low</td>\n",
       "      <td>med</td>\n",
       "      <td>4</td>\n",
       "      <td>more</td>\n",
       "      <td>big</td>\n",
       "      <td>low</td>\n",
       "      <td>unacc</td>\n",
       "      <td>United States</td>\n",
       "    </tr>\n",
       "    <tr>\n",
       "      <th>4</th>\n",
       "      <td>low</td>\n",
       "      <td>high</td>\n",
       "      <td>2</td>\n",
       "      <td>more</td>\n",
       "      <td>med</td>\n",
       "      <td>high</td>\n",
       "      <td>acc</td>\n",
       "      <td>South Korea</td>\n",
       "    </tr>\n",
       "  </tbody>\n",
       "</table>\n",
       "</div>"
      ],
      "text/plain": [
       "  buying_cost maintenance_cost doors capacity luggage safety acceptability  \\\n",
       "0       vhigh              low     4        4   small    med         unacc   \n",
       "1       vhigh              med     3        4   small   high           acc   \n",
       "2         med             high     3        2     med   high         unacc   \n",
       "3         low              med     4     more     big    low         unacc   \n",
       "4         low             high     2     more     med   high           acc   \n",
       "\n",
       "  manufacturer_country  \n",
       "0                China  \n",
       "1               France  \n",
       "2        United States  \n",
       "3        United States  \n",
       "4          South Korea  "
      ]
     },
     "execution_count": 3,
     "metadata": {},
     "output_type": "execute_result"
    }
   ],
   "source": [
    "car_eval = pd.read_csv('car_eval_dataset.csv')\n",
    "car_eval.head()"
   ]
  },
  {
   "cell_type": "markdown",
   "id": "a67236ee",
   "metadata": {},
   "source": [
    "manufacturer_country is a nominal categorical variable that indicates the country of the manufacturer of each car reviewed. Create a table of frequencies of all the cars reviewed by manufacturer_country. What is the modal category? \n",
    "Which country appears 4th most frequently? \n",
    "Print out your results."
   ]
  },
  {
   "cell_type": "code",
   "execution_count": 8,
   "id": "0da9cad9",
   "metadata": {},
   "outputs": [
    {
     "data": {
      "text/plain": [
       "'United States'"
      ]
     },
     "execution_count": 8,
     "metadata": {},
     "output_type": "execute_result"
    }
   ],
   "source": [
    "manufacturer_country_freq= car_eval['manufacturer_country'].value_counts()\n",
    "manufacturer_country_freq\n",
    "manufacturer_country_freq.index[4-1]"
   ]
  },
  {
   "cell_type": "markdown",
   "id": "b1b0f1d0",
   "metadata": {},
   "source": [
    "Calculate a table of proportions for countries that appear in manufacturer_country in the dataset.\n",
    "What percentage of cars were manufactured in Japan?"
   ]
  },
  {
   "cell_type": "code",
   "execution_count": 11,
   "id": "fc103adc",
   "metadata": {},
   "outputs": [
    {
     "data": {
      "text/plain": [
       "Japan            0.228\n",
       "Germany          0.218\n",
       "South Korea      0.159\n",
       "United States    0.138\n",
       "Italy            0.097\n",
       "France           0.087\n",
       "China            0.073\n",
       "Name: manufacturer_country, dtype: float64"
      ]
     },
     "execution_count": 11,
     "metadata": {},
     "output_type": "execute_result"
    }
   ],
   "source": [
    "manufacturer_country_prop= car_eval['manufacturer_country'].value_counts(normalize= True)\n",
    "manufacturer_country_prop"
   ]
  },
  {
   "cell_type": "markdown",
   "id": "94de188e",
   "metadata": {},
   "source": [
    "buying_cost is a categorical variable which describes the cost of buying any car in the dataset. \n",
    "Print out a list of the possible values for this variable."
   ]
  },
  {
   "cell_type": "code",
   "execution_count": 13,
   "id": "18b70c0b",
   "metadata": {},
   "outputs": [
    {
     "data": {
      "text/plain": [
       "array(['vhigh', 'med', 'low', 'high'], dtype=object)"
      ]
     },
     "execution_count": 13,
     "metadata": {},
     "output_type": "execute_result"
    }
   ],
   "source": [
    "buying_cost_values= car_eval['buying_cost'].unique()\n",
    "buying_cost_values"
   ]
  },
  {
   "cell_type": "markdown",
   "id": "ad417e75",
   "metadata": {},
   "source": [
    "buying_cost is an ordinal categorical variable, which means we can create an order associated with the values in the data and perform additional numeric operations on the variable. Create a new list, buying_cost_categories, that contains the unique values in buying_cost,\n",
    "ordered from lowest to highest."
   ]
  },
  {
   "cell_type": "code",
   "execution_count": 17,
   "id": "c44c32cd",
   "metadata": {},
   "outputs": [
    {
     "name": "stdout",
     "output_type": "stream",
     "text": [
      "['low', 'med', 'high', 'vhigh']\n"
     ]
    }
   ],
   "source": [
    "buying_cost_categories=  car_eval['buying_cost'].unique()\n",
    "order= ['low', 'med', 'high', 'vhigh']\n",
    "\n",
    "\n",
    "\n",
    "\n",
    "sorted_list = sorted(buying_cost_categories, key=lambda x: order.index(x))\n",
    "print(sorted_list)"
   ]
  },
  {
   "cell_type": "markdown",
   "id": "fc61a85d",
   "metadata": {},
   "source": [
    " Convert buying_cost to type 'category' using the list you created in the previous exercise."
   ]
  },
  {
   "cell_type": "code",
   "execution_count": 22,
   "id": "eaaec9f1",
   "metadata": {},
   "outputs": [
    {
     "data": {
      "text/plain": [
       "buying_cost             category\n",
       "maintenance_cost          object\n",
       "doors                     object\n",
       "capacity                  object\n",
       "luggage                   object\n",
       "safety                    object\n",
       "acceptability             object\n",
       "manufacturer_country      object\n",
       "dtype: object"
      ]
     },
     "execution_count": 22,
     "metadata": {},
     "output_type": "execute_result"
    }
   ],
   "source": [
    "car_eval[\"buying_cost\"] = pd.Categorical(\n",
    "    car_eval[\"buying_cost\"],\n",
    "    buying_cost_categories,\n",
    "    ordered=True\n",
    ")\n",
    "car_eval.dtypes"
   ]
  },
  {
   "cell_type": "markdown",
   "id": "e06214ab",
   "metadata": {},
   "source": [
    "Calculate the median category of the buying_cost variable and print the result."
   ]
  },
  {
   "cell_type": "code",
   "execution_count": 25,
   "id": "2df92117",
   "metadata": {},
   "outputs": [
    {
     "data": {
      "text/plain": [
       "1.0"
      ]
     },
     "execution_count": 25,
     "metadata": {},
     "output_type": "execute_result"
    }
   ],
   "source": [
    "buying_cost_median= np.median(car_eval['buying_cost'].cat.codes)\n",
    "buying_cost_median"
   ]
  },
  {
   "cell_type": "code",
   "execution_count": 26,
   "id": "bf7c2015",
   "metadata": {},
   "outputs": [
    {
     "name": "stdout",
     "output_type": "stream",
     "text": [
      "med\n"
     ]
    }
   ],
   "source": [
    "median_category = sorted_list[int(buying_cost_median)]\n",
    "print(median_category)"
   ]
  },
  {
   "cell_type": "markdown",
   "id": "1ca43e02",
   "metadata": {},
   "source": [
    "luggage is a categorical variable in the car evaluations dataset that records the luggage capacity\n",
    "for each reviewed car.\n",
    "Calculate a table of proportions for this variable and print the result."
   ]
  },
  {
   "cell_type": "code",
   "execution_count": 28,
   "id": "22af5b7e",
   "metadata": {},
   "outputs": [
    {
     "data": {
      "text/plain": [
       "small    0.339\n",
       "med      0.333\n",
       "big      0.328\n",
       "Name: luggage, dtype: float64"
      ]
     },
     "execution_count": 28,
     "metadata": {},
     "output_type": "execute_result"
    }
   ],
   "source": [
    "luggage_prop= car_eval['luggage'].value_counts(normalize= True)\n",
    "luggage_prop"
   ]
  },
  {
   "cell_type": "markdown",
   "id": "0c1aafcb",
   "metadata": {},
   "source": [
    "Are there any missing values in this column? Replicate the table of proportions from the previous exercise, but do not drop any missing values from the count. \n",
    "Print your result."
   ]
  },
  {
   "cell_type": "code",
   "execution_count": 29,
   "id": "9c08fb1f",
   "metadata": {},
   "outputs": [
    {
     "data": {
      "text/plain": [
       "small    0.339\n",
       "med      0.333\n",
       "big      0.328\n",
       "Name: luggage, dtype: float64"
      ]
     },
     "execution_count": 29,
     "metadata": {},
     "output_type": "execute_result"
    }
   ],
   "source": [
    "luggage_prop= car_eval['luggage'].value_counts(normalize= True, dropna= False)\n",
    "luggage_prop"
   ]
  },
  {
   "cell_type": "code",
   "execution_count": 30,
   "id": "d4dc9649",
   "metadata": {},
   "outputs": [
    {
     "data": {
      "text/plain": [
       "small    0.339\n",
       "med      0.333\n",
       "big      0.328\n",
       "Name: luggage, dtype: float64"
      ]
     },
     "execution_count": 30,
     "metadata": {},
     "output_type": "execute_result"
    }
   ],
   "source": [
    "car_eval[\"luggage\"].value_counts()/len(car_eval[\"luggage\"])"
   ]
  },
  {
   "cell_type": "code",
   "execution_count": 31,
   "id": "963994a0",
   "metadata": {},
   "outputs": [],
   "source": [
    "#so we dont have any missing values in our dataset as the results are the same. "
   ]
  },
  {
   "cell_type": "markdown",
   "id": "5bc96c5c",
   "metadata": {},
   "source": [
    "doors is a categorical variable in the car evaluations dataset that records the count of doors for each reviewed car. Find the count of cars that have 5 or more doors. You can identify cars with 5+ doors by looking for cars that have a value of '5more' in the doors column. \n",
    "Print your result."
   ]
  },
  {
   "cell_type": "code",
   "execution_count": 37,
   "id": "b8087c16",
   "metadata": {},
   "outputs": [
    {
     "data": {
      "text/plain": [
       "246"
      ]
     },
     "execution_count": 37,
     "metadata": {},
     "output_type": "execute_result"
    }
   ],
   "source": [
    "car_door_count= car_eval['doors'].value_counts()\n",
    "car_door_count\n",
    "Fivedoor_car=(car_eval['doors']== '5more').sum()\n",
    "Fivedoor_car"
   ]
  },
  {
   "cell_type": "markdown",
   "id": "d8d84f9b",
   "metadata": {},
   "source": [
    "Find the proportion of cars that have 5+ doors and print the result."
   ]
  },
  {
   "cell_type": "code",
   "execution_count": 42,
   "id": "ebdf8ada",
   "metadata": {},
   "outputs": [
    {
     "data": {
      "text/plain": [
       "0.246"
      ]
     },
     "execution_count": 42,
     "metadata": {},
     "output_type": "execute_result"
    }
   ],
   "source": [
    "proportion = (car_eval[\"doors\"] == '5more').mean()\n",
    "proportion"
   ]
  }
 ],
 "metadata": {
  "kernelspec": {
   "display_name": "Python 3 (ipykernel)",
   "language": "python",
   "name": "python3"
  },
  "language_info": {
   "codemirror_mode": {
    "name": "ipython",
    "version": 3
   },
   "file_extension": ".py",
   "mimetype": "text/x-python",
   "name": "python",
   "nbconvert_exporter": "python",
   "pygments_lexer": "ipython3",
   "version": "3.10.9"
  }
 },
 "nbformat": 4,
 "nbformat_minor": 5
}
